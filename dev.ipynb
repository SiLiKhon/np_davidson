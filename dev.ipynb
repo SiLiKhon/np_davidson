{
 "cells": [
  {
   "cell_type": "code",
   "execution_count": 1,
   "metadata": {},
   "outputs": [],
   "source": [
    "import numpy as np\n",
    "import numpy.typing as npt\n",
    "import matplotlib.pyplot as plt\n",
    "\n",
    "from np_davidson import smallest_eig"
   ]
  },
  {
   "cell_type": "code",
   "execution_count": 2,
   "metadata": {},
   "outputs": [
    {
     "data": {
      "text/plain": [
       "True"
      ]
     },
     "execution_count": 2,
     "metadata": {},
     "output_type": "execute_result"
    }
   ],
   "source": [
    "class NearlyDiagMatrix:\n",
    "    def __init__(self, dim: int, delta: int):\n",
    "        assert delta >= 0\n",
    "        assert dim - delta > 0\n",
    "        self.diag = np.random.normal(size=dim)\n",
    "        self.sub_diag = np.random.normal(size=dim - delta)\n",
    "        self.delta = delta\n",
    "\n",
    "    def dot(self, vec: npt.NDArray) -> npt.NDArray:\n",
    "        result = vec * self.diag\n",
    "        result[self.delta:] += vec[:-self.delta] * self.sub_diag\n",
    "        result[:-self.delta] += vec[self.delta:] * self.sub_diag\n",
    "        return result\n",
    "\n",
    "    def to_dense(self) -> npt.NDArray:\n",
    "        return (\n",
    "            np.diag(self.diag)\n",
    "            + np.diag(self.sub_diag, self.delta)\n",
    "            + np.diag(self.sub_diag, -self.delta)\n",
    "        )\n",
    "\n",
    "A = NearlyDiagMatrix(1000, 2)\n",
    "A_dense = A.to_dense()\n",
    "vec = np.random.normal(size=len(A.diag))\n",
    "np.allclose((A_dense @ vec), A.dot(vec))"
   ]
  },
  {
   "cell_type": "code",
   "execution_count": 7,
   "metadata": {},
   "outputs": [
    {
     "name": "stdout",
     "output_type": "stream",
     "text": [
      "(Converged at step 29)\n"
     ]
    },
    {
     "data": {
      "image/png": "[encoded data removed]",
      "text/plain": [
       "<Figure size 640x480 with 1 Axes>"
      ]
     },
     "metadata": {},
     "output_type": "display_data"
    }
   ],
   "source": [
    "dim = 1000\n",
    "delta = 2\n",
    "A = NearlyDiagMatrix(dim, delta)\n",
    "\n",
    "def pos_phase(vec, idx=None):\n",
    "    assert vec.ndim == 1\n",
    "    if idx is None:\n",
    "        idx = np.abs(vec).argmax()\n",
    "\n",
    "    result = vec\n",
    "    if vec[idx] < 0:\n",
    "        result = -vec\n",
    "    return result, idx\n",
    "\n",
    "true_eigval, true_eigvec = np.linalg.eigh(A.to_dense())\n",
    "true_eigval = true_eigval[0]\n",
    "true_eigvec, phase_idx = pos_phase(true_eigvec[:, 0])\n",
    "\n",
    "eigval, eigvec = smallest_eig(A.dot, A.diag, max_steps=40, verbose=True)\n",
    "eigvec = pos_phase(eigvec, phase_idx)[0]\n",
    "\n",
    "plt.stem(eigvec - true_eigvec);\n"
   ]
  },
  {
   "cell_type": "code",
   "execution_count": 14,
   "metadata": {},
   "outputs": [
    {
     "name": "stdout",
     "output_type": "stream",
     "text": [
      "working on size 100\n"
     ]
    },
    {
     "data": {
      "application/vnd.jupyter.widget-view+json": {
       "model_id": "885564d96126459f8336b8332feeccf7",
       "version_major": 2,
       "version_minor": 0
      },
      "text/plain": [
       "  0%|          | 0/100 [00:00<?, ?it/s]"
      ]
     },
     "metadata": {},
     "output_type": "display_data"
    },
    {
     "name": "stdout",
     "output_type": "stream",
     "text": [
      "working on size 500\n"
     ]
    },
    {
     "data": {
      "application/vnd.jupyter.widget-view+json": {
       "model_id": "886fff56ffaa4c2d9b163bc1c45f9220",
       "version_major": 2,
       "version_minor": 0
      },
      "text/plain": [
       "  0%|          | 0/100 [00:00<?, ?it/s]"
      ]
     },
     "metadata": {},
     "output_type": "display_data"
    },
    {
     "name": "stdout",
     "output_type": "stream",
     "text": [
      "working on size 1000\n"
     ]
    },
    {
     "data": {
      "application/vnd.jupyter.widget-view+json": {
       "model_id": "7a1e52962a504660999fdfb95e07085f",
       "version_major": 2,
       "version_minor": 0
      },
      "text/plain": [
       "  0%|          | 0/100 [00:00<?, ?it/s]"
      ]
     },
     "metadata": {},
     "output_type": "display_data"
    },
    {
     "name": "stdout",
     "output_type": "stream",
     "text": [
      "working on size 3000\n"
     ]
    },
    {
     "data": {
      "application/vnd.jupyter.widget-view+json": {
       "model_id": "2dcd765b34814eff9d5ec223aba23f69",
       "version_major": 2,
       "version_minor": 0
      },
      "text/plain": [
       "  0%|          | 0/100 [00:00<?, ?it/s]"
      ]
     },
     "metadata": {},
     "output_type": "display_data"
    },
    {
     "name": "stdout",
     "output_type": "stream",
     "text": [
      "working on size 5000\n"
     ]
    },
    {
     "data": {
      "application/vnd.jupyter.widget-view+json": {
       "model_id": "3402ab22f0444c55a79fc6d8e64a9d05",
       "version_major": 2,
       "version_minor": 0
      },
      "text/plain": [
       "  0%|          | 0/100 [00:00<?, ?it/s]"
      ]
     },
     "metadata": {},
     "output_type": "display_data"
    },
    {
     "name": "stdout",
     "output_type": "stream",
     "text": [
      "working on size 10000\n"
     ]
    },
    {
     "data": {
      "application/vnd.jupyter.widget-view+json": {
       "model_id": "67f0ab795bbc4caea8864a430132a8c9",
       "version_major": 2,
       "version_minor": 0
      },
      "text/plain": [
       "  0%|          | 0/100 [00:00<?, ?it/s]"
      ]
     },
     "metadata": {},
     "output_type": "display_data"
    },
    {
     "name": "stdout",
     "output_type": "stream",
     "text": [
      "working on size 20000\n"
     ]
    },
    {
     "data": {
      "application/vnd.jupyter.widget-view+json": {
       "model_id": "190379115780444bb02fb5da2ef7ecdb",
       "version_major": 2,
       "version_minor": 0
      },
      "text/plain": [
       "  0%|          | 0/100 [00:00<?, ?it/s]"
      ]
     },
     "metadata": {},
     "output_type": "display_data"
    }
   ],
   "source": [
    "from time import perf_counter\n",
    "from tqdm.auto import tqdm, trange\n",
    "\n",
    "dims = [100, 500, 1000, 3000, 5000, 10000, 20000]\n",
    "\n",
    "nreps = 100\n",
    "delta = 2\n",
    "\n",
    "times = []\n",
    "for dim in dims:\n",
    "    print(f\"working on size {dim}\")\n",
    "    times.append([])\n",
    "    for _ in trange(nreps):\n",
    "        A = NearlyDiagMatrix(dim, delta)\n",
    "\n",
    "        t0 = perf_counter()\n",
    "        eigval, eigvec = smallest_eig(A.dot, A.diag, max_steps=40)\n",
    "        t1 = perf_counter()\n",
    "        times[-1].append(t1 - t0)\n",
    "\n",
    "times = np.array(times)"
   ]
  },
  {
   "cell_type": "code",
   "execution_count": 15,
   "metadata": {},
   "outputs": [
    {
     "data": {
      "image/png": "[encoded data removed]",
      "text/plain": [
       "<Figure size 640x480 with 1 Axes>"
      ]
     },
     "metadata": {},
     "output_type": "display_data"
    }
   ],
   "source": [
    "plt.plot(dims, times.mean(axis=1));\n",
    "plt.ylim(bottom=0)\n",
    "plt.xlim(left=0);"
   ]
  }
 ],
 "metadata": {
  "kernelspec": {
   "display_name": "base",
   "language": "python",
   "name": "python3"
  },
  "language_info": {
   "codemirror_mode": {
    "name": "ipython",
    "version": 3
   },
   "file_extension": ".py",
   "mimetype": "text/x-python",
   "name": "python",
   "nbconvert_exporter": "python",
   "pygments_lexer": "ipython3",
   "version": "3.10.10"
  },
  "orig_nbformat": 4
 },
 "nbformat": 4,
 "nbformat_minor": 2
}
